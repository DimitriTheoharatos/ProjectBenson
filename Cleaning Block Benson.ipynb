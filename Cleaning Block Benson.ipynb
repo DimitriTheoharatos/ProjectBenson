{
 "cells": [
  {
   "cell_type": "code",
   "execution_count": 1,
   "metadata": {},
   "outputs": [],
   "source": [
    "%matplotlib inline \n",
    "\n",
    "import numpy as np\n",
    "import pandas as pd\n",
    "import matplotlib.pyplot as plt\n",
    "\n",
    "# set some nicer defaults for matplotlib\n",
    "from matplotlib import rcParams"
   ]
  },
  {
   "cell_type": "code",
   "execution_count": null,
   "metadata": {},
   "outputs": [],
   "source": [
    "#creating dataframes for cleaning and concatenation\n",
    "\n",
    "df1 = pd.read_csv('http://web.mta.info/developers/data/nyct/turnstile/turnstile_180505.txt')\n",
    "df2 = pd.read_csv('http://web.mta.info/developers/data/nyct/turnstile/turnstile_180512.txt')\n",
    "df3 = \n",
    "df4 = \n",
    "dflist = [df1, df2, df3, df4]"
   ]
  },
  {
   "cell_type": "code",
   "execution_count": null,
   "metadata": {},
   "outputs": [],
   "source": [
    "def cleaner(df):\n",
    "    #standardizing columns and adding differences in separate column\n",
    "    df.columns = [col.lower().strip() for col in df.columns]\n",
    "    df[['entries_change', 'exits_change']] = df.groupby('unit').diff()\n",
    "    #removing negative values\n",
    "    df.entries[df.entries < 0] = 0\n",
    "    df.entries[df.entries > df.entries.quantile(0.987)] = 0\n",
    "    df.exits[df.exits < 0] = 0\n",
    "    df.exits[df.exits > df.exits.quantile(0.987)] = 0\n",
    "    return df"
   ]
  },
  {
   "cell_type": "code",
   "execution_count": null,
   "metadata": {},
   "outputs": [],
   "source": [
    "#calling cleaner on all dataframes\n",
    "for df in dflist:\n",
    "    cleaner(df)"
   ]
  },
  {
   "cell_type": "code",
   "execution_count": null,
   "metadata": {},
   "outputs": [],
   "source": [
    "may_data = pd.concat(dflist)"
   ]
  }
 ],
 "metadata": {
  "kernelspec": {
   "display_name": "Python 3",
   "language": "python",
   "name": "python3"
  },
  "language_info": {
   "codemirror_mode": {
    "name": "ipython",
    "version": 3
   },
   "file_extension": ".py",
   "mimetype": "text/x-python",
   "name": "python",
   "nbconvert_exporter": "python",
   "pygments_lexer": "ipython3",
   "version": "3.6.5"
  }
 },
 "nbformat": 4,
 "nbformat_minor": 2
}
